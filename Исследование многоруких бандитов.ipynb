{
 "cells": [
  {
   "cell_type": "markdown",
   "id": "3f8ee017",
   "metadata": {},
   "source": [
    "## Ссылки\n",
    "### Статьи\n",
    "- https://paperswithcode.com/task/multi-armed-bandits\n",
    "\n",
    "- https://github.com/kfoofw/bandit_simulations/blob/master/python/contextual_bandits/analysis/linUCB%20hybrid%20implementation%20and%20analysis.md\n",
    "### Датасет\n",
    "https://grouplens.org/datasets/movielens/latest/"
   ]
  },
  {
   "cell_type": "code",
   "execution_count": 265,
   "id": "f9707602",
   "metadata": {},
   "outputs": [
    {
     "name": "stderr",
     "output_type": "stream",
     "text": [
      "\"wget\" ­Ґ пў«пҐвбп ў­гваҐ­­Ґ© Ё«Ё ў­Ґи­Ґ©\n",
      "Є®¬ ­¤®©, ЁбЇ®«­пҐ¬®© Їа®Ја ¬¬®© Ё«Ё Ї ЄҐв­л¬ д ©«®¬.\n"
     ]
    }
   ],
   "source": [
    "!wget 'https://grouplens.org/datasets/movielens/latest/'"
   ]
  },
  {
   "cell_type": "code",
   "execution_count": 470,
   "id": "e81f26fa",
   "metadata": {},
   "outputs": [],
   "source": [
    "import pandas as pd\n",
    "import numpy as np\n",
    "\n",
    "from typing import Optional\n",
    "from collections import defaultdict\n",
    "\n",
    "from sklearn.utils import check_random_state\n",
    "\n",
    "import matplotlib.pyplot as plt\n",
    "import seaborn as sns\n",
    "\n",
    "%matplotlib inline\n",
    "\n",
    "%config InlineBackend.figure_format = 'retina'\n",
    "plt.rcParams['font.size'] = 30\n",
    "plt.rcParams['figure.figsize'] = (14, 8)\n",
    "\n",
    "sns.set(style=\"darkgrid\")"
   ]
  },
  {
   "cell_type": "markdown",
   "id": "8c62817c",
   "metadata": {},
   "source": [
    "## Вычисление метрик"
   ]
  },
  {
   "cell_type": "code",
   "execution_count": 471,
   "id": "87bccc58",
   "metadata": {},
   "outputs": [],
   "source": [
    "def calculate_pk(all_actual, all_predicted, k):\n",
    "    assert len(all_actual) == len(all_predicted)\n",
    "    pk = 0\n",
    "    count = len(all_predicted)\n",
    "    \n",
    "    for actual, predicted in zip(all_actual, all_predicted):\n",
    "        pk += len(set(actual[:k]).intersection(set(predicted[:k]))) \n",
    "    return pk / (k * count)\n",
    "\n",
    "def calculate_user_apk(all_actual, all_predicted, k):\n",
    "    apk = 0\n",
    "    \n",
    "    for i, predicted in enumerate(all_predicted[:k]):        \n",
    "        apk += calculate_pk([all_actual], [all_predicted[:i+1]], i+1)\n",
    "    \n",
    "    return apk / k\n",
    "\n",
    "def calculate_mapk(all_actual, all_predicted, k):\n",
    "    assert len(all_actual) == len(all_predicted)\n",
    "    mapk = 0\n",
    "    count = len(all_predicted)\n",
    "    \n",
    "    for actual, predicted in zip(all_actual, all_predicted):\n",
    "        mapk += calculate_user_apk(actual, predicted, k)\n",
    "        \n",
    "    return mapk / count"
   ]
  },
  {
   "cell_type": "markdown",
   "id": "bb6a1f63",
   "metadata": {},
   "source": [
    "## Описание моделей"
   ]
  },
  {
   "cell_type": "code",
   "execution_count": 251,
   "id": "b4fe2052",
   "metadata": {},
   "outputs": [],
   "source": [
    "class TompsonSampling:\n",
    "    def __init__(self, random_state: Optional[int] = None):\n",
    "        self.random_state = random_state\n",
    "        self.randomizer = check_random_state(self.random_state)\n",
    "        \n",
    "        if self.random_state is None:\n",
    "            self.random_state = 1\n",
    "            \n",
    "        self.random_ = {} \n",
    "        self.beta_ = defaultdict(int)\n",
    "        self.alpha_ = defaultdict(int)\n",
    "        \n",
    "    def update_params(self, item_name, reward):\n",
    "        if item_name not in self.random_:\n",
    "            self.random_[item_name] = check_random_state(self.randomizer.randint(1, 1000000))\n",
    "        \n",
    "        if reward == 0:\n",
    "            self.beta_[item_name] += 1\n",
    "        else:\n",
    "            self.alpha_[item_name] += 1\n",
    "            \n",
    "        if self.beta_[item_name] == 0:\n",
    "            self.beta_[item_name] = 1\n",
    "        if self.alpha_[item_name] == 0:\n",
    "            self.alpha_[item_name] = 1\n",
    "            \n",
    "    def select_action(self, n_items = 1):\n",
    "        predicted_rewards = {\n",
    "            key: sampling.beta(a=self.alpha_[key], b=self.beta_[key]) for key, sampling in self.random_.items()\n",
    "        }\n",
    "        \n",
    "        return list({k: v for k, v in sorted(predicted_rewards.items(), key=lambda item: item[1], reverse=True)})[0:n_items]\n",
    "    \n",
    "    def execute_experiment(self, item_names, target, train_count):\n",
    "        pred_item_and_target = []\n",
    "        \n",
    "        for i, (item_name, target) in enumerate(zip(item_names, target)):\n",
    "            if i <= train_count:\n",
    "                self.update_params(item_name, target)\n",
    "                continue\n",
    "    \n",
    "            pred_item = self.select_action()\n",
    "            self.update_params(item_name, target)\n",
    "    \n",
    "            pred_item_and_target.append((pred_item, item_name))\n",
    "        \n",
    "        return pred_item_and_target\n",
    "    \n",
    "    \n",
    "class UCB1():\n",
    "    def __init__(self):\n",
    "        self.counts = defaultdict(int)\n",
    "        self.values = defaultdict(float)\n",
    "    \n",
    "    def update_params(self, item_name, reward):\n",
    "        self.counts[item_name] += 1\n",
    "        n = self.counts[item_name]\n",
    "        \n",
    "        # Update average/mean value/reward for chosen arm\n",
    "        value = self.values[item_name]\n",
    "        self.values[item_name] = ((n - 1) / float(n)) * value + (1 / float(n)) * reward\n",
    "        \n",
    "    def select_action(self, n_items = 1):\n",
    "        for arm, values in self.counts.items():\n",
    "            if self.counts[arm] == 0:\n",
    "                return arm\n",
    "    \n",
    "        ucb_values = defaultdict(float)\n",
    "        total_counts = sum(self.counts.values())\n",
    "        \n",
    "        for arm, value in self.counts.items():\n",
    "            bonus = np.sqrt((2 * np.log(total_counts)) / float(value))\n",
    "            ucb_values[arm] = self.values[arm] + bonus + min(np.random.rand(3))\n",
    "        \n",
    "        return list({k: v for k, v in sorted(ucb_values.items(), key=lambda item: item[1], reverse=True)})[0:n_items]\n",
    "    \n",
    "\n",
    "class LinUCB():\n",
    "    def __init__(self, n_features, batch_size = 10, alpha=0.001):\n",
    "        self.A_inv_temp = defaultdict(lambda: np.eye(n_features))\n",
    "        self.b_temp = defaultdict(lambda: np.zeros(n_features))\n",
    "        \n",
    "        self.A_inv = defaultdict(lambda: np.eye(n_features))\n",
    "        self.b = defaultdict(lambda: np.zeros(n_features))\n",
    "        \n",
    "        self.action_counts = defaultdict(int)\n",
    "        \n",
    "        self.batch_size = batch_size\n",
    "        self.n_trial = 0\n",
    "        self.alpha = alpha\n",
    "        \n",
    "    \n",
    "    def update_params(self, item_name, features, reward):    \n",
    "        self.n_trial += 1\n",
    "        self.action_counts[item_name] += 1\n",
    "        \n",
    "        context = np.array([features])\n",
    "        \n",
    "        self.A_inv_temp[item_name] -= (\n",
    "            self.A_inv_temp[item_name]\n",
    "            @ context.T\n",
    "            @ context\n",
    "            @ self.A_inv_temp[item_name]\n",
    "            / (1 + context @ self.A_inv_temp[item_name] @ context.T)[0][0]\n",
    "        )\n",
    "        \n",
    "        self.b_temp[item_name] += reward * context.flatten()\n",
    "        if self.n_trial % self.batch_size == 0:\n",
    "            self.A_inv, self.b = (\n",
    "                self.A_inv_temp.copy(),\n",
    "                self.b_temp.copy(),\n",
    "            )\n",
    "\n",
    "    \n",
    "    def select_action(self, features, n_items=1):\n",
    "        ucb_values = {}\n",
    "        \n",
    "        features = np.array(features)\n",
    "        \n",
    "        for arm, matrix in self.A_inv.items():\n",
    "            theta_hat = matrix @ self.b[arm]\n",
    "            sigma_hat = np.sqrt(features @ matrix @ features.T) \n",
    "            \n",
    "            ucb_values[arm] = features @ theta_hat + self.alpha * sigma_hat\n",
    "            \n",
    "        return list({k: v for k, v in sorted(ucb_values.items(), key=lambda item: item[1], reverse=True)})[0:n_items]"
   ]
  },
  {
   "cell_type": "markdown",
   "id": "efd879db",
   "metadata": {},
   "source": [
    "## Подготовка данных"
   ]
  },
  {
   "cell_type": "code",
   "execution_count": 488,
   "id": "b96ef7cb",
   "metadata": {},
   "outputs": [
    {
     "data": {
      "text/html": [
       "<div>\n",
       "<style scoped>\n",
       "    .dataframe tbody tr th:only-of-type {\n",
       "        vertical-align: middle;\n",
       "    }\n",
       "\n",
       "    .dataframe tbody tr th {\n",
       "        vertical-align: top;\n",
       "    }\n",
       "\n",
       "    .dataframe thead th {\n",
       "        text-align: right;\n",
       "    }\n",
       "</style>\n",
       "<table border=\"1\" class=\"dataframe\">\n",
       "  <thead>\n",
       "    <tr style=\"text-align: right;\">\n",
       "      <th></th>\n",
       "      <th>movieId</th>\n",
       "      <th>title</th>\n",
       "      <th>genres</th>\n",
       "      <th>splitted_genres</th>\n",
       "    </tr>\n",
       "  </thead>\n",
       "  <tbody>\n",
       "    <tr>\n",
       "      <th>0</th>\n",
       "      <td>1</td>\n",
       "      <td>Toy Story (1995)</td>\n",
       "      <td>Adventure|Animation|Children|Comedy|Fantasy</td>\n",
       "      <td>[Adventure, Animation, Children, Comedy, Fantasy]</td>\n",
       "    </tr>\n",
       "    <tr>\n",
       "      <th>1</th>\n",
       "      <td>2</td>\n",
       "      <td>Jumanji (1995)</td>\n",
       "      <td>Adventure|Children|Fantasy</td>\n",
       "      <td>[Adventure, Children, Fantasy]</td>\n",
       "    </tr>\n",
       "    <tr>\n",
       "      <th>2</th>\n",
       "      <td>3</td>\n",
       "      <td>Grumpier Old Men (1995)</td>\n",
       "      <td>Comedy|Romance</td>\n",
       "      <td>[Comedy, Romance]</td>\n",
       "    </tr>\n",
       "    <tr>\n",
       "      <th>3</th>\n",
       "      <td>4</td>\n",
       "      <td>Waiting to Exhale (1995)</td>\n",
       "      <td>Comedy|Drama|Romance</td>\n",
       "      <td>[Comedy, Drama, Romance]</td>\n",
       "    </tr>\n",
       "    <tr>\n",
       "      <th>4</th>\n",
       "      <td>5</td>\n",
       "      <td>Father of the Bride Part II (1995)</td>\n",
       "      <td>Comedy</td>\n",
       "      <td>[Comedy]</td>\n",
       "    </tr>\n",
       "    <tr>\n",
       "      <th>...</th>\n",
       "      <td>...</td>\n",
       "      <td>...</td>\n",
       "      <td>...</td>\n",
       "      <td>...</td>\n",
       "    </tr>\n",
       "    <tr>\n",
       "      <th>9737</th>\n",
       "      <td>193581</td>\n",
       "      <td>Black Butler: Book of the Atlantic (2017)</td>\n",
       "      <td>Action|Animation|Comedy|Fantasy</td>\n",
       "      <td>[Action, Animation, Comedy, Fantasy]</td>\n",
       "    </tr>\n",
       "    <tr>\n",
       "      <th>9738</th>\n",
       "      <td>193583</td>\n",
       "      <td>No Game No Life: Zero (2017)</td>\n",
       "      <td>Animation|Comedy|Fantasy</td>\n",
       "      <td>[Animation, Comedy, Fantasy]</td>\n",
       "    </tr>\n",
       "    <tr>\n",
       "      <th>9739</th>\n",
       "      <td>193585</td>\n",
       "      <td>Flint (2017)</td>\n",
       "      <td>Drama</td>\n",
       "      <td>[Drama]</td>\n",
       "    </tr>\n",
       "    <tr>\n",
       "      <th>9740</th>\n",
       "      <td>193587</td>\n",
       "      <td>Bungo Stray Dogs: Dead Apple (2018)</td>\n",
       "      <td>Action|Animation</td>\n",
       "      <td>[Action, Animation]</td>\n",
       "    </tr>\n",
       "    <tr>\n",
       "      <th>9741</th>\n",
       "      <td>193609</td>\n",
       "      <td>Andrew Dice Clay: Dice Rules (1991)</td>\n",
       "      <td>Comedy</td>\n",
       "      <td>[Comedy]</td>\n",
       "    </tr>\n",
       "  </tbody>\n",
       "</table>\n",
       "<p>9742 rows × 4 columns</p>\n",
       "</div>"
      ],
      "text/plain": [
       "      movieId                                      title  \\\n",
       "0           1                           Toy Story (1995)   \n",
       "1           2                             Jumanji (1995)   \n",
       "2           3                    Grumpier Old Men (1995)   \n",
       "3           4                   Waiting to Exhale (1995)   \n",
       "4           5         Father of the Bride Part II (1995)   \n",
       "...       ...                                        ...   \n",
       "9737   193581  Black Butler: Book of the Atlantic (2017)   \n",
       "9738   193583               No Game No Life: Zero (2017)   \n",
       "9739   193585                               Flint (2017)   \n",
       "9740   193587        Bungo Stray Dogs: Dead Apple (2018)   \n",
       "9741   193609        Andrew Dice Clay: Dice Rules (1991)   \n",
       "\n",
       "                                           genres  \\\n",
       "0     Adventure|Animation|Children|Comedy|Fantasy   \n",
       "1                      Adventure|Children|Fantasy   \n",
       "2                                  Comedy|Romance   \n",
       "3                            Comedy|Drama|Romance   \n",
       "4                                          Comedy   \n",
       "...                                           ...   \n",
       "9737              Action|Animation|Comedy|Fantasy   \n",
       "9738                     Animation|Comedy|Fantasy   \n",
       "9739                                        Drama   \n",
       "9740                             Action|Animation   \n",
       "9741                                       Comedy   \n",
       "\n",
       "                                        splitted_genres  \n",
       "0     [Adventure, Animation, Children, Comedy, Fantasy]  \n",
       "1                        [Adventure, Children, Fantasy]  \n",
       "2                                     [Comedy, Romance]  \n",
       "3                              [Comedy, Drama, Romance]  \n",
       "4                                              [Comedy]  \n",
       "...                                                 ...  \n",
       "9737               [Action, Animation, Comedy, Fantasy]  \n",
       "9738                       [Animation, Comedy, Fantasy]  \n",
       "9739                                            [Drama]  \n",
       "9740                                [Action, Animation]  \n",
       "9741                                           [Comedy]  \n",
       "\n",
       "[9742 rows x 4 columns]"
      ]
     },
     "execution_count": 488,
     "metadata": {},
     "output_type": "execute_result"
    }
   ],
   "source": [
    "df_ratings = pd.read_csv('ml-latest-small/ratings.csv', index_col=False)\n",
    "df_movies = pd.read_csv('ml-latest-small/movies.csv', index_col=False)\n",
    "df_movies['splitted_genres'] = df_movies['genres'].apply(lambda genres: genres.split('|'))\n",
    "df_movies"
   ]
  },
  {
   "cell_type": "code",
   "execution_count": 489,
   "id": "f5b71cf1",
   "metadata": {},
   "outputs": [],
   "source": [
    "df_ratings['target_v1'] = round((df_ratings['rating'] - df_ratings['rating'].min()) / (df_ratings['rating'].max() - df_ratings['rating'].min()))\n",
    "df_ratings['target_v2'] = df_ratings['rating'].apply(lambda x: 1 if x >= 4 else 0)"
   ]
  },
  {
   "cell_type": "code",
   "execution_count": 490,
   "id": "0d1b82c6",
   "metadata": {},
   "outputs": [
    {
     "data": {
      "text/html": [
       "<div>\n",
       "<style scoped>\n",
       "    .dataframe tbody tr th:only-of-type {\n",
       "        vertical-align: middle;\n",
       "    }\n",
       "\n",
       "    .dataframe tbody tr th {\n",
       "        vertical-align: top;\n",
       "    }\n",
       "\n",
       "    .dataframe thead th {\n",
       "        text-align: right;\n",
       "    }\n",
       "</style>\n",
       "<table border=\"1\" class=\"dataframe\">\n",
       "  <thead>\n",
       "    <tr style=\"text-align: right;\">\n",
       "      <th></th>\n",
       "      <th>userId</th>\n",
       "      <th>movieId</th>\n",
       "      <th>rating</th>\n",
       "      <th>timestamp</th>\n",
       "      <th>target_v1</th>\n",
       "    </tr>\n",
       "    <tr>\n",
       "      <th>target_v2</th>\n",
       "      <th></th>\n",
       "      <th></th>\n",
       "      <th></th>\n",
       "      <th></th>\n",
       "      <th></th>\n",
       "    </tr>\n",
       "  </thead>\n",
       "  <tbody>\n",
       "    <tr>\n",
       "      <th>0</th>\n",
       "      <td>52256</td>\n",
       "      <td>52256</td>\n",
       "      <td>52256</td>\n",
       "      <td>52256</td>\n",
       "      <td>52256</td>\n",
       "    </tr>\n",
       "    <tr>\n",
       "      <th>1</th>\n",
       "      <td>48580</td>\n",
       "      <td>48580</td>\n",
       "      <td>48580</td>\n",
       "      <td>48580</td>\n",
       "      <td>48580</td>\n",
       "    </tr>\n",
       "  </tbody>\n",
       "</table>\n",
       "</div>"
      ],
      "text/plain": [
       "           userId  movieId  rating  timestamp  target_v1\n",
       "target_v2                                               \n",
       "0           52256    52256   52256      52256      52256\n",
       "1           48580    48580   48580      48580      48580"
      ]
     },
     "execution_count": 490,
     "metadata": {},
     "output_type": "execute_result"
    }
   ],
   "source": [
    "df_ratings.groupby(['target_v2']).count()"
   ]
  },
  {
   "cell_type": "code",
   "execution_count": 491,
   "id": "8bec1104",
   "metadata": {},
   "outputs": [
    {
     "data": {
      "image/png": "[encoded data removed]",
      "text/plain": [
       "<Figure size 1008x576 with 1 Axes>"
      ]
     },
     "metadata": {
      "image/png": {
       "height": 504,
       "width": 850
      }
     },
     "output_type": "display_data"
    }
   ],
   "source": [
    "plt.title('График распределение таргета', fontsize=20)\n",
    "ax = sns.countplot(x=\"target_v2\", data=df_ratings)"
   ]
  },
  {
   "cell_type": "markdown",
   "id": "81166ff4",
   "metadata": {},
   "source": [
    "## Признаки \n",
    "### Распределение жанров"
   ]
  },
  {
   "cell_type": "code",
   "execution_count": 500,
   "id": "d6995514",
   "metadata": {},
   "outputs": [],
   "source": [
    "class GenresDistributionTransformer():\n",
    "    def __init__(self, movie_genres):\n",
    "        self.movie_genres = movie_genres\n",
    "        self.all_genre_list = {v for values in movie_genres.values() for v in values}\n",
    "        \n",
    "        self.user_n_genres = dict()\n",
    "    \n",
    "    def fit_transform(self, userId, movieId):\n",
    "        if userId not in self.user_n_genres:\n",
    "            self.user_n_genres[userId] = defaultdict(int)\n",
    "            \n",
    "        for genre in self.movie_genres[movieId]:\n",
    "            self.user_n_genres[userId][genre] += 1\n",
    "        \n",
    "        total_count = sum(self.user_n_genres[userId].values())\n",
    "        \n",
    "        return [self.user_n_genres[userId][g] / total_count for g in self.all_genre_list]\n",
    "    \n",
    "    def get_last_dist(self, userId):\n",
    "        if userId not in self.user_n_genres:\n",
    "            self.user_n_genres[userId] = defaultdict(int)\n",
    "        \n",
    "        total_count = sum(self.user_n_genres[userId].values())\n",
    "        \n",
    "        total_count = 1 if total_count == 0 else total_count\n",
    "        \n",
    "        return [self.user_n_genres[userId][g] / total_count for g in self.all_genre_list]"
   ]
  },
  {
   "cell_type": "code",
   "execution_count": 535,
   "id": "83406b12",
   "metadata": {},
   "outputs": [],
   "source": [
    "user_genres_dist = []\n",
    "\n",
    "movie_genres = {movieId: genres for movieId, genres in df_movies[['movieId', 'splitted_genres']].values}\n",
    "\n",
    "transformer = GenresDistributionTransformer(movie_genres)\n",
    "\n",
    "df_ratings = df_ratings.sort_values(['timestamp'])\n",
    "for userId, movieId, target in df_ratings[['userId', 'movieId', 'target_v2']].values:\n",
    "    if target == 0:\n",
    "        user_genres_dist.append(transformer.get_last_dist(userId))\n",
    "        continue\n",
    "        \n",
    "    user_genres_dist.append(transformer.fit_transform(userId, movieId))\n"
   ]
  },
  {
   "cell_type": "markdown",
   "id": "b19c3a5f",
   "metadata": {},
   "source": [
    "## Добавление признаков"
   ]
  },
  {
   "cell_type": "code",
   "execution_count": 543,
   "id": "3f86f985",
   "metadata": {},
   "outputs": [
    {
     "data": {
      "text/html": [
       "<div>\n",
       "<style scoped>\n",
       "    .dataframe tbody tr th:only-of-type {\n",
       "        vertical-align: middle;\n",
       "    }\n",
       "\n",
       "    .dataframe tbody tr th {\n",
       "        vertical-align: top;\n",
       "    }\n",
       "\n",
       "    .dataframe thead th {\n",
       "        text-align: right;\n",
       "    }\n",
       "</style>\n",
       "<table border=\"1\" class=\"dataframe\">\n",
       "  <thead>\n",
       "    <tr style=\"text-align: right;\">\n",
       "      <th></th>\n",
       "      <th>userId</th>\n",
       "      <th>movieId</th>\n",
       "      <th>target</th>\n",
       "      <th>features</th>\n",
       "    </tr>\n",
       "  </thead>\n",
       "  <tbody>\n",
       "    <tr>\n",
       "      <th>66719</th>\n",
       "      <td>429</td>\n",
       "      <td>595</td>\n",
       "      <td>1</td>\n",
       "      <td>[0.16666666666666666, 0.0, 0.16666666666666666...</td>\n",
       "    </tr>\n",
       "    <tr>\n",
       "      <th>66667</th>\n",
       "      <td>429</td>\n",
       "      <td>161</td>\n",
       "      <td>1</td>\n",
       "      <td>[0.1111111111111111, 0.0, 0.1111111111111111, ...</td>\n",
       "    </tr>\n",
       "    <tr>\n",
       "      <th>66705</th>\n",
       "      <td>429</td>\n",
       "      <td>343</td>\n",
       "      <td>0</td>\n",
       "      <td>[0.1111111111111111, 0.0, 0.1111111111111111, ...</td>\n",
       "    </tr>\n",
       "    <tr>\n",
       "      <th>66669</th>\n",
       "      <td>429</td>\n",
       "      <td>165</td>\n",
       "      <td>1</td>\n",
       "      <td>[0.08333333333333333, 0.0, 0.08333333333333333...</td>\n",
       "    </tr>\n",
       "    <tr>\n",
       "      <th>66714</th>\n",
       "      <td>429</td>\n",
       "      <td>468</td>\n",
       "      <td>0</td>\n",
       "      <td>[0.08333333333333333, 0.0, 0.08333333333333333...</td>\n",
       "    </tr>\n",
       "    <tr>\n",
       "      <th>...</th>\n",
       "      <td>...</td>\n",
       "      <td>...</td>\n",
       "      <td>...</td>\n",
       "      <td>...</td>\n",
       "    </tr>\n",
       "    <tr>\n",
       "      <th>81475</th>\n",
       "      <td>514</td>\n",
       "      <td>187031</td>\n",
       "      <td>0</td>\n",
       "      <td>[0.04480651731160896, 0.038696537678207736, 0....</td>\n",
       "    </tr>\n",
       "    <tr>\n",
       "      <th>81477</th>\n",
       "      <td>514</td>\n",
       "      <td>187595</td>\n",
       "      <td>0</td>\n",
       "      <td>[0.04480651731160896, 0.038696537678207736, 0....</td>\n",
       "    </tr>\n",
       "    <tr>\n",
       "      <th>81336</th>\n",
       "      <td>514</td>\n",
       "      <td>5247</td>\n",
       "      <td>0</td>\n",
       "      <td>[0.04480651731160896, 0.038696537678207736, 0....</td>\n",
       "    </tr>\n",
       "    <tr>\n",
       "      <th>81335</th>\n",
       "      <td>514</td>\n",
       "      <td>5246</td>\n",
       "      <td>0</td>\n",
       "      <td>[0.04480651731160896, 0.038696537678207736, 0....</td>\n",
       "    </tr>\n",
       "    <tr>\n",
       "      <th>81092</th>\n",
       "      <td>514</td>\n",
       "      <td>162</td>\n",
       "      <td>1</td>\n",
       "      <td>[0.044715447154471545, 0.03861788617886179, 0....</td>\n",
       "    </tr>\n",
       "  </tbody>\n",
       "</table>\n",
       "<p>100836 rows × 4 columns</p>\n",
       "</div>"
      ],
      "text/plain": [
       "       userId  movieId  target  \\\n",
       "66719     429      595       1   \n",
       "66667     429      161       1   \n",
       "66705     429      343       0   \n",
       "66669     429      165       1   \n",
       "66714     429      468       0   \n",
       "...       ...      ...     ...   \n",
       "81475     514   187031       0   \n",
       "81477     514   187595       0   \n",
       "81336     514     5247       0   \n",
       "81335     514     5246       0   \n",
       "81092     514      162       1   \n",
       "\n",
       "                                                features  \n",
       "66719  [0.16666666666666666, 0.0, 0.16666666666666666...  \n",
       "66667  [0.1111111111111111, 0.0, 0.1111111111111111, ...  \n",
       "66705  [0.1111111111111111, 0.0, 0.1111111111111111, ...  \n",
       "66669  [0.08333333333333333, 0.0, 0.08333333333333333...  \n",
       "66714  [0.08333333333333333, 0.0, 0.08333333333333333...  \n",
       "...                                                  ...  \n",
       "81475  [0.04480651731160896, 0.038696537678207736, 0....  \n",
       "81477  [0.04480651731160896, 0.038696537678207736, 0....  \n",
       "81336  [0.04480651731160896, 0.038696537678207736, 0....  \n",
       "81335  [0.04480651731160896, 0.038696537678207736, 0....  \n",
       "81092  [0.044715447154471545, 0.03861788617886179, 0....  \n",
       "\n",
       "[100836 rows x 4 columns]"
      ]
     },
     "execution_count": 543,
     "metadata": {},
     "output_type": "execute_result"
    }
   ],
   "source": [
    "df = df_ratings[['userId', 'movieId', 'target_v2']].rename(columns={'target_v2': 'target'})\n",
    "df['features'] = user_genres_dist\n",
    "df"
   ]
  },
  {
   "cell_type": "markdown",
   "id": "ea4f8bc8",
   "metadata": {},
   "source": [
    "## Разделение на подвыборки"
   ]
  },
  {
   "cell_type": "code",
   "execution_count": 544,
   "id": "a6095428",
   "metadata": {},
   "outputs": [],
   "source": [
    "separate_index = round(df.shape[0] * 0.7)\n",
    "train_df = df.iloc[:separate_index]\n",
    "test_df = df.iloc[separate_index+1:]"
   ]
  },
  {
   "cell_type": "markdown",
   "id": "ee022b0f",
   "metadata": {},
   "source": [
    "## Томпсоновское сэмплирование"
   ]
  },
  {
   "cell_type": "code",
   "execution_count": 546,
   "id": "7e7068fe",
   "metadata": {},
   "outputs": [],
   "source": [
    "ts_bandit = TompsonSampling()\n",
    "\n",
    "PREDICTED_COUNT = 50\n",
    "\n",
    "train_df[['movieId', 'target']].apply(lambda x: ts_bandit.update_params(x[0], x[1]), axis=1)\n",
    "\n",
    "actuals = []\n",
    "predicts = []\n",
    "\n",
    "for user_uid in test_df['userId'].unique():\n",
    "    sub_df = test_df[test_df['userId'] == user_uid]\n",
    "    pred_item = ts_bandit.select_action(n_items=PREDICTED_COUNT)\n",
    "    \n",
    "    actuals.append(sub_df[sub_df['target'] == 1]['movieId'].values)\n",
    "    predicts.append(pred_item)\n",
    "    \n",
    "    sub_df[['movieId', 'target']].apply(lambda x: ts_bandit.update_params(x[0], x[1]), axis=1)"
   ]
  },
  {
   "cell_type": "code",
   "execution_count": 547,
   "id": "b72f1f32",
   "metadata": {},
   "outputs": [
    {
     "name": "stdout",
     "output_type": "stream",
     "text": [
      "TS P@50 = 0.0008\n",
      "TS MAP@50 = 0.0003711659583935307\n"
     ]
    }
   ],
   "source": [
    "print(f'TS P@{PREDICTED_COUNT} = {calculate_pk(actuals, predicts, PREDICTED_COUNT)}')\n",
    "print(f'TS MAP@{PREDICTED_COUNT} = {calculate_mapk(actuals, predicts, PREDICTED_COUNT)}')"
   ]
  },
  {
   "cell_type": "code",
   "execution_count": 548,
   "id": "930a6903",
   "metadata": {},
   "outputs": [],
   "source": [
    "## Почему-то модель выдавала одинаковые фильмы? Я добавил рандом"
   ]
  },
  {
   "cell_type": "markdown",
   "id": "911b7d82",
   "metadata": {},
   "source": [
    "## UCB1"
   ]
  },
  {
   "cell_type": "code",
   "execution_count": 549,
   "id": "de9aec10",
   "metadata": {},
   "outputs": [],
   "source": [
    "uscb1_bandit = UCB1()\n",
    "\n",
    "PREDICTED_COUNT = 50\n",
    "\n",
    "train_df[['movieId', 'target']].apply(lambda x: uscb1_bandit.update_params(x[0], x[1]), axis=1)\n",
    "\n",
    "actuals_ucb = []\n",
    "predicts_ucb = []\n",
    "\n",
    "for user_uid in test_df['userId'].unique():\n",
    "    sub_df = test_df[test_df['userId'] == user_uid]\n",
    "    pred_item_ucb = uscb1_bandit.select_action(n_items=PREDICTED_COUNT)\n",
    "    \n",
    "    actuals_ucb.append(sub_df[sub_df['target'] == 1]['movieId'].values)\n",
    "    predicts_ucb.append(pred_item_ucb)\n",
    "    \n",
    "    sub_df[['movieId', 'target']].apply(lambda x: uscb1_bandit.update_params(x[0], x[1]), axis=1)"
   ]
  },
  {
   "cell_type": "code",
   "execution_count": 550,
   "id": "97352a9e",
   "metadata": {},
   "outputs": [
    {
     "name": "stdout",
     "output_type": "stream",
     "text": [
      "TS P@50 = 0.00011428571428571428\n",
      "TS MAP@50 = 7.368978538450056e-05\n"
     ]
    }
   ],
   "source": [
    "print(f'TS P@{PREDICTED_COUNT} = {calculate_pk(actuals_ucb, predicts_ucb, PREDICTED_COUNT)}')\n",
    "print(f'TS MAP@{PREDICTED_COUNT} = {calculate_mapk(actuals_ucb, predicts_ucb, PREDICTED_COUNT)}')"
   ]
  },
  {
   "cell_type": "markdown",
   "id": "d7ca6296",
   "metadata": {},
   "source": [
    "## Линейные бандиты"
   ]
  },
  {
   "cell_type": "markdown",
   "id": "94cb0b2b",
   "metadata": {},
   "source": [
    "## LinUCB"
   ]
  },
  {
   "cell_type": "code",
   "execution_count": 631,
   "id": "3c401f7c",
   "metadata": {},
   "outputs": [],
   "source": [
    "linuscb_bandit = LinUCB(20)\n",
    "\n",
    "PREDICTED_COUNT = 50\n",
    "\n",
    "train_df[['movieId', 'features', 'target']].apply(lambda x: linuscb_bandit.update_params(x[0], x[1],  x[2]), axis=1)\n",
    "    \n",
    "actuals_linucb = []\n",
    "predicts_linucb = []\n",
    "\n",
    "for user_uid in test_df['userId'].unique():\n",
    "    user_sub_df = test_df[test_df['userId'] == user_uid]\n",
    "    \n",
    "    for i in range(int(np.ceil(user_sub_df.shape[0] / PREDICTED_COUNT))):\n",
    "        sub_df = user_sub_df.iloc[i*PREDICTED_COUNT:(i+1) * PREDICTED_COUNT]\n",
    "        \n",
    "        pred_items_linucb = linuscb_bandit.select_action(sub_df.iloc[0]['features'], PREDICTED_COUNT)\n",
    "        \n",
    "        actuals_linucb.append(sub_df[sub_df['target'] == 1]['movieId'].values)\n",
    "        predicts_linucb.append(pred_items_linucb)\n",
    "    \n",
    "        sub_df[['movieId', 'features', 'target']].apply(lambda x: linuscb_bandit.update_params(x[0], x[1],  x[2]), axis=1)"
   ]
  },
  {
   "cell_type": "code",
   "execution_count": 632,
   "id": "70393c5d",
   "metadata": {},
   "outputs": [
    {
     "name": "stdout",
     "output_type": "stream",
     "text": [
      "TS P@10 = 0.01711798839458414\n",
      "TS MAP@10 = 0.014163711583924357\n"
     ]
    }
   ],
   "source": [
    "print(f'TS P@{PREDICTED_COUNT} = {calculate_pk(actuals_linucb, predicts_linucb, PREDICTED_COUNT)}')\n",
    "print(f'TS MAP@{PREDICTED_COUNT} = {calculate_mapk(actuals_linucb, predicts_linucb, PREDICTED_COUNT)}')"
   ]
  },
  {
   "cell_type": "code",
   "execution_count": null,
   "id": "3322f35c",
   "metadata": {},
   "outputs": [],
   "source": [
    "## Добавить в качестве фичи значение косинусной близости между распределением жанров у пользователя и фильма\n",
    "## Реализовать LinTS и сравнить все между собой"
   ]
  }
 ],
 "metadata": {
  "kernelspec": {
   "display_name": "Python 3",
   "language": "python",
   "name": "python3"
  },
  "language_info": {
   "codemirror_mode": {
    "name": "ipython",
    "version": 3
   },
   "file_extension": ".py",
   "mimetype": "text/x-python",
   "name": "python",
   "nbconvert_exporter": "python",
   "pygments_lexer": "ipython3",
   "version": "3.9.4"
  }
 },
 "nbformat": 4,
 "nbformat_minor": 5
}
